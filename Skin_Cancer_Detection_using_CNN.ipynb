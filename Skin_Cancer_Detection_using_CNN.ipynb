{
  "cells": [
    {
      "cell_type": "markdown",
      "metadata": {
        "id": "view-in-github",
        "colab_type": "text"
      },
      "source": [
        "<a href=\"https://colab.research.google.com/github/RabeyaMuna/Skin-Cancer-Detection-Using-CNN/blob/main/Skin_Cancer_Detection_using_CNN.ipynb\" target=\"_parent\"><img src=\"https://colab.research.google.com/assets/colab-badge.svg\" alt=\"Open In Colab\"/></a>"
      ]
    },
    {
      "cell_type": "code",
      "execution_count": 1,
      "metadata": {
        "colab": {
          "base_uri": "https://localhost:8080/"
        },
        "id": "bdgNWTrMUsMG",
        "outputId": "f614987f-d2d1-4312-c245-fbba2ef6d7e7"
      },
      "outputs": [
        {
          "output_type": "stream",
          "name": "stdout",
          "text": [
            "Mounted at /content/drive\n"
          ]
        }
      ],
      "source": [
        "from google.colab import drive\n",
        "\n",
        "# Mount Google Drive\n",
        "drive.mount('/content/drive')\n",
        "# Change directory to the folder containing your dataset\n",
        "dataset_path = '/content/drive/MyDrive/Skin_Cancer_Dataset'\n"
      ]
    },
    {
      "cell_type": "code",
      "execution_count": 2,
      "metadata": {
        "id": "tL86AcfYT4fM"
      },
      "outputs": [],
      "source": [
        "import numpy as np\n",
        "import pandas as pd\n",
        "import matplotlib.pyplot as plt\n",
        "from PIL import Image\n",
        "from sklearn.model_selection import train_test_split\n",
        "from keras.models import Sequential\n",
        "from keras.layers import Conv2D, MaxPooling2D, Flatten, Dense, Dropout\n",
        "from keras.preprocessing.image import ImageDataGenerator"
      ]
    },
    {
      "cell_type": "code",
      "execution_count": 3,
      "metadata": {
        "id": "zkDHP04pUE-6"
      },
      "outputs": [],
      "source": [
        "# Define image size and batch size\n",
        "image_size = (224, 224)\n",
        "batch_size = 32\n",
        "# Create ImageDataGenerator for train set with augmentation\n",
        "train_datagen = ImageDataGenerator(\n",
        "    rescale=1./255,\n",
        "    shear_range=0.2,\n",
        "    zoom_range=0.2,\n",
        "    horizontal_flip=True\n",
        ")\n",
        "\n",
        "# Create ImageDataGenerator for test and validation sets without augmentation\n",
        "test_datagen = ImageDataGenerator(rescale=1./255)"
      ]
    },
    {
      "cell_type": "code",
      "execution_count": 4,
      "metadata": {
        "colab": {
          "base_uri": "https://localhost:8080/",
          "height": 35
        },
        "id": "PIcotMGCVPeA",
        "outputId": "921b9320-a6e8-492e-b744-a09ec1961d58"
      },
      "outputs": [
        {
          "output_type": "execute_result",
          "data": {
            "text/plain": [
              "'/content/drive/MyDrive/Skin_Cancer_Dataset'"
            ],
            "application/vnd.google.colaboratory.intrinsic+json": {
              "type": "string"
            }
          },
          "metadata": {},
          "execution_count": 4
        }
      ],
      "source": [
        "dataset_path"
      ]
    },
    {
      "cell_type": "code",
      "execution_count": 5,
      "metadata": {
        "colab": {
          "base_uri": "https://localhost:8080/"
        },
        "id": "4sZJw7V1UpFV",
        "outputId": "197e9657-3999-41ec-bb5b-834a6f52b395"
      },
      "outputs": [
        {
          "output_type": "stream",
          "name": "stdout",
          "text": [
            "Found 1934 images belonging to 2 classes.\n"
          ]
        }
      ],
      "source": [
        "# Load train set images\n",
        "import os\n",
        "\n",
        "# Define file paths\n",
        "train_dir = os.path.join(dataset_path, 'train')\n",
        "\n",
        "# Load train set images\n",
        "train_generator = train_datagen.flow_from_directory(\n",
        "    train_dir,\n",
        "    target_size=image_size,\n",
        "    batch_size=batch_size,\n",
        "    class_mode='categorical'\n",
        ")\n"
      ]
    },
    {
      "cell_type": "code",
      "execution_count": 6,
      "metadata": {
        "colab": {
          "base_uri": "https://localhost:8080/"
        },
        "id": "UXLXGRTEUrWs",
        "outputId": "f23f7020-ab40-4a1c-c1ce-b71e674d4b04"
      },
      "outputs": [
        {
          "output_type": "stream",
          "name": "stdout",
          "text": [
            "Found 932 images belonging to 2 classes.\n"
          ]
        }
      ],
      "source": [
        "# Load test set images\n",
        "test_dir = os.path.join(dataset_path, 'test')\n",
        "\n",
        "# Load train set images\n",
        "test_generator = test_datagen.flow_from_directory(\n",
        "    test_dir,\n",
        "    target_size=image_size,\n",
        "    batch_size=batch_size,\n",
        "    class_mode='categorical'\n",
        ")"
      ]
    },
    {
      "cell_type": "code",
      "execution_count": 7,
      "metadata": {
        "colab": {
          "base_uri": "https://localhost:8080/"
        },
        "id": "nGQTQfqoUtZR",
        "outputId": "06a8abe1-8970-404d-e6fb-2b58ad505678"
      },
      "outputs": [
        {
          "output_type": "stream",
          "name": "stdout",
          "text": [
            "Found 1864 images belonging to 2 classes.\n"
          ]
        },
        {
          "output_type": "execute_result",
          "data": {
            "text/plain": [
              "<keras.preprocessing.image.DirectoryIterator at 0x7feca2283580>"
            ]
          },
          "metadata": {},
          "execution_count": 7
        }
      ],
      "source": [
        "# Load validation set images\n",
        "val_dir = os.path.join(dataset_path, 'val')\n",
        "val_generator = test_datagen.flow_from_directory(\n",
        "    val_dir,\n",
        "    target_size=image_size,\n",
        "    batch_size=batch_size,\n",
        "    class_mode='categorical'\n",
        ")\n",
        "val_generator"
      ]
    },
    {
      "cell_type": "code",
      "execution_count": 8,
      "metadata": {
        "id": "HQbvCXq1djjL"
      },
      "outputs": [],
      "source": [
        "labels = ['benign', 'malignant']\n",
        "label_np=np.array(labels)"
      ]
    },
    {
      "cell_type": "code",
      "execution_count": 9,
      "metadata": {
        "id": "LfVx3J9PX6hS"
      },
      "outputs": [],
      "source": [
        "# Create CNN model\n",
        "model = Sequential()\n",
        "model.add(Conv2D(32, (3, 3), activation='relu', input_shape=(224, 224, 3)))\n",
        "model.add(MaxPooling2D((2, 2)))\n",
        "model.add(Conv2D(64, (3, 3), activation='relu'))\n",
        "model.add(MaxPooling2D((2, 2)))\n",
        "model.add(Conv2D(128, (3, 3), activation='relu'))\n",
        "model.add(MaxPooling2D((2, 2)))\n",
        "model.add(Flatten())\n",
        "model.add(Dense(128, activation='relu'))\n",
        "model.add(Dropout(0.2))\n",
        "model.add(Dense(2, activation='softmax'))\n",
        "\n",
        "# Compile the model\n",
        "model.compile(optimizer='adam', loss='categorical_crossentropy', metrics=['accuracy'])"
      ]
    },
    {
      "cell_type": "code",
      "execution_count": 10,
      "metadata": {
        "colab": {
          "base_uri": "https://localhost:8080/"
        },
        "id": "J60arOaYbjv_",
        "outputId": "97171a6b-8afa-4531-9a63-c2b25ff2129d"
      },
      "outputs": [
        {
          "output_type": "stream",
          "name": "stderr",
          "text": [
            "<ipython-input-10-ffe23de8475e>:1: UserWarning: `Model.fit_generator` is deprecated and will be removed in a future version. Please use `Model.fit`, which supports generators.\n",
            "  model.fit_generator(generator= train_generator,\n"
          ]
        },
        {
          "output_type": "stream",
          "name": "stdout",
          "text": [
            "Epoch 1/5\n",
            "60/60 [==============================] - 600s 10s/step - loss: 0.0136 - accuracy: 0.9837 - val_loss: 138.8089 - val_accuracy: 0.5248\n",
            "Epoch 2/5\n",
            "60/60 [==============================] - 193s 3s/step - loss: 0.0000e+00 - accuracy: 1.0000 - val_loss: 139.9214 - val_accuracy: 0.5237\n",
            "Epoch 3/5\n",
            "60/60 [==============================] - 200s 3s/step - loss: 0.0000e+00 - accuracy: 1.0000 - val_loss: 139.9184 - val_accuracy: 0.5237\n",
            "Epoch 4/5\n",
            "60/60 [==============================] - 193s 3s/step - loss: 0.0000e+00 - accuracy: 1.0000 - val_loss: 140.2320 - val_accuracy: 0.5226\n",
            "Epoch 5/5\n",
            "60/60 [==============================] - 193s 3s/step - loss: 0.0000e+00 - accuracy: 1.0000 - val_loss: 139.6372 - val_accuracy: 0.5248\n"
          ]
        },
        {
          "output_type": "execute_result",
          "data": {
            "text/plain": [
              "<keras.callbacks.History at 0x7feca1065670>"
            ]
          },
          "metadata": {},
          "execution_count": 10
        }
      ],
      "source": [
        "model.fit_generator(generator= train_generator, \n",
        "    steps_per_epoch=train_generator.samples // batch_size,\n",
        "    epochs=5,\n",
        "    validation_data=val_generator,\n",
        "    validation_steps=val_generator.samples // batch_size\n",
        ")"
      ]
    },
    {
      "cell_type": "code",
      "source": [
        "test_generator.reset()  # Reset the generator before evaluation\n",
        "scores = model.evaluate_generator(generator=test_generator, steps=test_generator.samples // batch_size)\n",
        "\n",
        "# Extract the accuracy from the evaluation scores\n",
        "accuracy = scores[1]  # Assuming accuracy is the second metric in the list of scores\n",
        "\n",
        "print(\"Test Accuracy: {:.2f}%\".format(accuracy * 100))"
      ],
      "metadata": {
        "colab": {
          "base_uri": "https://localhost:8080/"
        },
        "id": "tRoeDZT-FxV9",
        "outputId": "221ab070-dd28-4310-ec3b-f414d29cbc18"
      },
      "execution_count": 11,
      "outputs": [
        {
          "output_type": "stream",
          "name": "stderr",
          "text": [
            "<ipython-input-11-68dadb747636>:2: UserWarning: `Model.evaluate_generator` is deprecated and will be removed in a future version. Please use `Model.evaluate`, which supports generators.\n",
            "  scores = model.evaluate_generator(generator=test_generator, steps=test_generator.samples // batch_size)\n"
          ]
        },
        {
          "output_type": "stream",
          "name": "stdout",
          "text": [
            "Test Accuracy: 52.48%\n"
          ]
        }
      ]
    }
  ],
  "metadata": {
    "colab": {
      "provenance": [],
      "authorship_tag": "ABX9TyOelEHhAmafrZoQUJnaJP7O",
      "include_colab_link": true
    },
    "kernelspec": {
      "display_name": "Python 3",
      "name": "python3"
    },
    "language_info": {
      "name": "python"
    }
  },
  "nbformat": 4,
  "nbformat_minor": 0
}