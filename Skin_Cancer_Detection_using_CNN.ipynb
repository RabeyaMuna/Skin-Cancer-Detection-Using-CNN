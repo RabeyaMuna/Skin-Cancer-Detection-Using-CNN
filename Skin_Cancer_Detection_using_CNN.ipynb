{
  "cells": [
    {
      "cell_type": "code",
      "execution_count": null,
      "metadata": {
        "colab": {
          "base_uri": "https://localhost:8080/"
        },
        "id": "bdgNWTrMUsMG",
        "outputId": "5e75b990-11b2-4aa1-e718-fd24500358b5"
      },
      "outputs": [
        {
          "name": "stdout",
          "output_type": "stream",
          "text": [
            "Drive already mounted at /content/drive; to attempt to forcibly remount, call drive.mount(\"/content/drive\", force_remount=True).\n"
          ]
        }
      ],
      "source": [
        "from google.colab import drive\n",
        "\n",
        "# Mount Google Drive\n",
        "drive.mount('/content/drive')\n",
        "# Change directory to the folder containing your dataset\n",
        "dataset_path = '/content/drive/MyDrive/Skin_Cancer_Dataset'\n"
      ]
    },
    {
      "cell_type": "code",
      "execution_count": null,
      "metadata": {
        "id": "tL86AcfYT4fM"
      },
      "outputs": [],
      "source": [
        "import numpy as np\n",
        "import pandas as pd\n",
        "import matplotlib.pyplot as plt\n",
        "from PIL import Image\n",
        "from sklearn.model_selection import train_test_split\n",
        "from keras.models import Sequential\n",
        "from keras.layers import Conv2D, MaxPooling2D, Flatten, Dense, Dropout\n",
        "from keras.preprocessing.image import ImageDataGenerator"
      ]
    },
    {
      "cell_type": "code",
      "execution_count": null,
      "metadata": {
        "id": "zkDHP04pUE-6"
      },
      "outputs": [],
      "source": [
        "# Define image size and batch size\n",
        "image_size = (224, 224)\n",
        "batch_size = 32\n",
        "# Create ImageDataGenerator for train set with augmentation\n",
        "train_datagen = ImageDataGenerator(\n",
        "    rescale=1./255,\n",
        "    shear_range=0.2,\n",
        "    zoom_range=0.2,\n",
        "    horizontal_flip=True\n",
        ")\n",
        "\n",
        "# Create ImageDataGenerator for test and validation sets without augmentation\n",
        "test_datagen = ImageDataGenerator(rescale=1./255)"
      ]
    },
    {
      "cell_type": "code",
      "execution_count": null,
      "metadata": {
        "colab": {
          "base_uri": "https://localhost:8080/",
          "height": 35
        },
        "id": "PIcotMGCVPeA",
        "outputId": "89ce925c-e8c7-4f52-db59-810095f7e543"
      },
      "outputs": [
        {
          "data": {
            "application/vnd.google.colaboratory.intrinsic+json": {
              "type": "string"
            },
            "text/plain": [
              "'/content/drive/MyDrive/Skin_Cancer_Dataset'"
            ]
          },
          "execution_count": 17,
          "metadata": {},
          "output_type": "execute_result"
        }
      ],
      "source": [
        "dataset_path"
      ]
    },
    {
      "cell_type": "code",
      "execution_count": null,
      "metadata": {
        "colab": {
          "base_uri": "https://localhost:8080/"
        },
        "id": "4sZJw7V1UpFV",
        "outputId": "141bd5cb-e434-421d-c6df-c35c14338cd5"
      },
      "outputs": [
        {
          "name": "stdout",
          "output_type": "stream",
          "text": [
            "Found 1934 images belonging to 2 classes.\n"
          ]
        }
      ],
      "source": [
        "# Load train set images\n",
        "import os\n",
        "\n",
        "# Define file paths\n",
        "train_dir = os.path.join(dataset_path, 'train')\n",
        "\n",
        "# Load train set images\n",
        "train_generator = train_datagen.flow_from_directory(\n",
        "    train_dir,\n",
        "    target_size=image_size,\n",
        "    batch_size=batch_size,\n",
        "    class_mode='categorical'\n",
        ")\n"
      ]
    },
    {
      "cell_type": "code",
      "execution_count": null,
      "metadata": {
        "colab": {
          "base_uri": "https://localhost:8080/"
        },
        "id": "UXLXGRTEUrWs",
        "outputId": "d10b91d1-1abf-4e27-9f56-68d7bf560802"
      },
      "outputs": [
        {
          "name": "stdout",
          "output_type": "stream",
          "text": [
            "Found 932 images belonging to 2 classes.\n"
          ]
        }
      ],
      "source": [
        "# Load test set images\n",
        "test_dir = os.path.join(dataset_path, 'test')\n",
        "\n",
        "# Load train set images\n",
        "test_generator = test_datagen.flow_from_directory(\n",
        "    test_dir,\n",
        "    target_size=image_size,\n",
        "    batch_size=batch_size,\n",
        "    class_mode='categorical'\n",
        ")"
      ]
    },
    {
      "cell_type": "code",
      "execution_count": null,
      "metadata": {
        "colab": {
          "base_uri": "https://localhost:8080/"
        },
        "id": "nGQTQfqoUtZR",
        "outputId": "2788be81-fba1-4fe0-ddd5-85721fe8b9b1"
      },
      "outputs": [
        {
          "name": "stdout",
          "output_type": "stream",
          "text": [
            "Found 1864 images belonging to 2 classes.\n"
          ]
        },
        {
          "data": {
            "text/plain": [
              "<keras.preprocessing.image.DirectoryIterator at 0x7f3d6ad927f0>"
            ]
          },
          "execution_count": 24,
          "metadata": {},
          "output_type": "execute_result"
        }
      ],
      "source": [
        "# Load validation set images\n",
        "val_dir = os.path.join(dataset_path, 'val')\n",
        "val_generator = test_datagen.flow_from_directory(\n",
        "    val_dir,\n",
        "    target_size=image_size,\n",
        "    batch_size=batch_size,\n",
        "    class_mode='categorical'\n",
        ")\n",
        "val_generator"
      ]
    },
    {
      "cell_type": "code",
      "execution_count": null,
      "metadata": {
        "id": "HQbvCXq1djjL"
      },
      "outputs": [],
      "source": [
        "labels = ['benign', 'malignant']\n",
        "label_np=np.array(labels)"
      ]
    },
    {
      "cell_type": "code",
      "execution_count": null,
      "metadata": {
        "id": "LfVx3J9PX6hS"
      },
      "outputs": [],
      "source": [
        "# Create CNN model\n",
        "model = Sequential()\n",
        "model.add(Conv2D(32, (3, 3), activation='relu', input_shape=(224, 224, 3)))\n",
        "model.add(MaxPooling2D((2, 2)))\n",
        "model.add(Conv2D(64, (3, 3), activation='relu'))\n",
        "model.add(MaxPooling2D((2, 2)))\n",
        "model.add(Conv2D(128, (3, 3), activation='relu'))\n",
        "model.add(MaxPooling2D((2, 2)))\n",
        "model.add(Flatten())\n",
        "model.add(Dense(128, activation='relu'))\n",
        "model.add(Dropout(0.2))\n",
        "model.add(Dense(2, activation='softmax'))\n",
        "\n",
        "# Compile the model\n",
        "model.compile(optimizer='adam', loss='categorical_crossentropy', metrics=['accuracy'])"
      ]
    },
    {
      "cell_type": "code",
      "execution_count": null,
      "metadata": {
        "colab": {
          "background_save": true,
          "base_uri": "https://localhost:8080/"
        },
        "id": "J60arOaYbjv_",
        "outputId": "251fa716-c56a-4e53-f1aa-3582b3d75f90"
      },
      "outputs": [
        {
          "name": "stderr",
          "output_type": "stream",
          "text": [
            "<ipython-input-32-65e06b05411d>:1: UserWarning: `Model.fit_generator` is deprecated and will be removed in a future version. Please use `Model.fit`, which supports generators.\n",
            "  model.fit_generator(generator= train_generator,\n"
          ]
        },
        {
          "name": "stdout",
          "output_type": "stream",
          "text": [
            "Epoch 1/10\n",
            "60/60 [==============================] - 1437s 23s/step - loss: 0.0113 - accuracy: 0.9942 - val_loss: 293.5085 - val_accuracy: 0.5242\n",
            "Epoch 2/10\n",
            "60/60 [==============================] - 338s 6s/step - loss: 0.0000e+00 - accuracy: 1.0000 - val_loss: 295.5364 - val_accuracy: 0.5242\n",
            "Epoch 3/10\n",
            "60/60 [==============================] - 333s 6s/step - loss: 0.0000e+00 - accuracy: 1.0000 - val_loss: 295.0945 - val_accuracy: 0.5248\n",
            "Epoch 4/10\n",
            "60/60 [==============================] - 330s 6s/step - loss: 0.0000e+00 - accuracy: 1.0000 - val_loss: 296.2719 - val_accuracy: 0.5226\n",
            "Epoch 5/10\n",
            "60/60 [==============================] - 314s 5s/step - loss: 0.0000e+00 - accuracy: 1.0000 - val_loss: 295.6127 - val_accuracy: 0.5237\n",
            "Epoch 6/10\n",
            "60/60 [==============================] - 314s 5s/step - loss: 0.0000e+00 - accuracy: 1.0000 - val_loss: 295.6314 - val_accuracy: 0.5237\n",
            "Epoch 7/10\n",
            "60/60 [==============================] - 338s 6s/step - loss: 0.0000e+00 - accuracy: 1.0000 - val_loss: 295.7672 - val_accuracy: 0.5237\n",
            "Epoch 8/10\n",
            "60/60 [==============================] - 311s 5s/step - loss: 0.0000e+00 - accuracy: 1.0000 - val_loss: 296.2670 - val_accuracy: 0.5226\n",
            "Epoch 9/10\n",
            "60/60 [==============================] - 318s 5s/step - loss: 0.0000e+00 - accuracy: 1.0000 - val_loss: 295.7060 - val_accuracy: 0.5237\n",
            "Epoch 10/10\n",
            "60/60 [==============================] - 331s 6s/step - loss: 0.0000e+00 - accuracy: 1.0000 - val_loss: 296.0377 - val_accuracy: 0.5232\n"
          ]
        },
        {
          "data": {
            "text/plain": [
              "<keras.callbacks.History at 0x7f3d4469bd30>"
            ]
          },
          "execution_count": 32,
          "metadata": {},
          "output_type": "execute_result"
        }
      ],
      "source": [
        "model.fit_generator(generator= train_generator, \n",
        "    steps_per_epoch=train_generator.samples // batch_size,\n",
        "    epochs=10,\n",
        "    validation_data=val_generator,\n",
        "    validation_steps=val_generator.samples // batch_size\n",
        ")"
      ]
    }
  ],
  "metadata": {
    "colab": {
      "provenance": []
    },
    "kernelspec": {
      "display_name": "Python 3",
      "name": "python3"
    },
    "language_info": {
      "name": "python"
    }
  },
  "nbformat": 4,
  "nbformat_minor": 0
}